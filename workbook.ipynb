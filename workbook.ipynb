{
 "cells": [
  {
   "cell_type": "code",
   "execution_count": 1,
   "metadata": {},
   "outputs": [],
   "source": [
    "# Import modules\n",
    "\n",
    "import requests\n",
    "import os\n",
    "import json\n",
    "import pandas as pd\n",
    "import numpy as np\n",
    "import matplotlib.pyplot as plt\n",
    "import seaborn as sns\n",
    "import spotipy\n",
    "from spotipy.oauth2 import SpotifyClientCredentials\n",
    "from spotipy.oauth2 import SpotifyOAuth\n",
    "import spotipy.util as util\n",
    "from env import client_id, client_secret, redirect_uri"
   ]
  },
  {
   "cell_type": "code",
   "execution_count": 2,
   "metadata": {},
   "outputs": [],
   "source": [
    "# Define Spotify environment\n",
    "os.environ['SPOTIPY_CLIENT_ID'] = client_id\n",
    "os.environ['SPOTIPY_CLIENT_SECRET'] = client_secret\n",
    "os.environ['SPOTIPY_REDIRECT_URI'] = redirect_uri"
   ]
  },
  {
   "cell_type": "code",
   "execution_count": 3,
   "metadata": {},
   "outputs": [],
   "source": [
    "# What I'm looking for\n",
    "scope = 'user-top-read'\n",
    "sp = spotipy.Spotify(auth_manager=SpotifyOAuth(scope=scope))\n",
    "\n",
    "# Retrieve 30 Day Top\n",
    "short_term_tracks = sp.current_user_top_tracks(limit=50,offset=0,time_range='short_term')\n",
    "# Write to JSON\n",
    "with open('short_term_top_tracks.json','w',encoding='utf-8') as f:\n",
    "    json.dump(short_term_tracks,f, ensure_ascii = False, indent = 4)\n",
    "\n",
    "# Retrieve 6 Month Top\n",
    "medium_term_tracks = sp.current_user_top_tracks(limit=50, offset = 0, time_range = 'medium_term')\n",
    "# Write to JSON\n",
    "with open('medium_term_top_tracks.json','w',encoding='utf-8') as f:\n",
    "    json.dump(medium_term_tracks,f, ensure_ascii = False, indent = 4)\n",
    "\n",
    "# Retrieve Years Top\n",
    "long_term_tracks = sp.current_user_top_tracks(limit=50, offset = 0, time_range = 'long_term')\n",
    "# Write to JSON\n",
    "with open('long_term_top_tracks.json','w',encoding='utf-8') as f:\n",
    "    json.dump(long_term_tracks,f, ensure_ascii = False, indent = 4)"
   ]
  },
  {
   "cell_type": "code",
   "execution_count": 4,
   "metadata": {},
   "outputs": [],
   "source": [
    "# Open all JSON\n",
    "with open('short_term_top_tracks.json') as f:\n",
    "    short_data = json.load(f)\n",
    "with open('medium_term_top_tracks.json') as f:\n",
    "    medium_data = json.load(f)\n",
    "with open('long_term_top_tracks.json') as f:\n",
    "    long_data = json.load(f)"
   ]
  },
  {
   "cell_type": "markdown",
   "metadata": {},
   "source": [
    "### Create dataframes for each term of data"
   ]
  },
  {
   "cell_type": "code",
   "execution_count": 5,
   "metadata": {},
   "outputs": [],
   "source": [
    "artist_name = []\n",
    "song_name = []\n",
    "song_uri = []\n",
    "album_name = []\n",
    "for track in short_data['items']:\n",
    "    track['album']\n",
    "    artist_name.append(track['artists'][0]['name'])\n",
    "    song_name.append(track['name'])\n",
    "    song_uri.append(track['uri'])\n",
    "    album_name.append(track['album']['name'])\n",
    "\n",
    "short_df = pd.DataFrame({'artist':artist_name,\n",
    "'song':song_name,\n",
    "'album':album_name,\n",
    "'song_uri':song_uri,\n",
    "'term':'short'})"
   ]
  },
  {
   "cell_type": "code",
   "execution_count": 6,
   "metadata": {},
   "outputs": [],
   "source": [
    "artist_name = []\n",
    "song_name = []\n",
    "song_uri = []\n",
    "album_name = []\n",
    "for track in medium_data['items']:\n",
    "    track['album']\n",
    "    artist_name.append(track['artists'][0]['name'])\n",
    "    song_name.append(track['name'])\n",
    "    song_uri.append(track['uri'])\n",
    "    album_name.append(track['album']['name'])\n",
    "\n",
    "medium_df = pd.DataFrame({'artist':artist_name,\n",
    "'song':song_name,\n",
    "'album':album_name,\n",
    "'song_uri':song_uri,\n",
    "'term':'medium'})"
   ]
  },
  {
   "cell_type": "code",
   "execution_count": 7,
   "metadata": {},
   "outputs": [],
   "source": [
    "artist_name = []\n",
    "song_name = []\n",
    "song_uri = []\n",
    "album_name = []\n",
    "for track in long_data['items']:\n",
    "    track['album']\n",
    "    artist_name.append(track['artists'][0]['name'])\n",
    "    song_name.append(track['name'])\n",
    "    song_uri.append(track['uri'])\n",
    "    album_name.append(track['album']['name'])\n",
    "\n",
    "long_df = pd.DataFrame({'artist':artist_name,\n",
    "'song':song_name,\n",
    "'album':album_name,\n",
    "'song_uri':song_uri,\n",
    "'term':'long'})"
   ]
  },
  {
   "cell_type": "code",
   "execution_count": 8,
   "metadata": {},
   "outputs": [
    {
     "name": "stdout",
     "output_type": "stream",
     "text": [
      "(50, 5)\n",
      "(50, 5)\n",
      "(50, 5)\n"
     ]
    }
   ],
   "source": [
    "print(short_df.shape)\n",
    "print(medium_df.shape)\n",
    "print(long_df.shape)"
   ]
  },
  {
   "cell_type": "code",
   "execution_count": 9,
   "metadata": {},
   "outputs": [],
   "source": [
    "# Combine all three dataframes into one top songs dataframe\n",
    "dfs = [short_df, medium_df, long_df]\n",
    "df = pd.concat(dfs)"
   ]
  },
  {
   "cell_type": "code",
   "execution_count": 10,
   "metadata": {},
   "outputs": [
    {
     "data": {
      "text/plain": [
       "(150, 5)"
      ]
     },
     "execution_count": 10,
     "metadata": {},
     "output_type": "execute_result"
    }
   ],
   "source": [
    "df.shape"
   ]
  },
  {
   "cell_type": "code",
   "execution_count": 11,
   "metadata": {},
   "outputs": [
    {
     "data": {
      "text/plain": [
       "(150, 5)"
      ]
     },
     "execution_count": 11,
     "metadata": {},
     "output_type": "execute_result"
    }
   ],
   "source": [
    "df.shape"
   ]
  },
  {
   "cell_type": "code",
   "execution_count": 12,
   "metadata": {},
   "outputs": [],
   "source": [
    "first_100 = pd.DataFrame(sp.audio_features(tracks = df.song_uri.head(100)))"
   ]
  },
  {
   "cell_type": "code",
   "execution_count": 13,
   "metadata": {},
   "outputs": [
    {
     "data": {
      "text/plain": [
       "(100, 18)"
      ]
     },
     "execution_count": 13,
     "metadata": {},
     "output_type": "execute_result"
    }
   ],
   "source": [
    "first_100.shape"
   ]
  },
  {
   "cell_type": "code",
   "execution_count": 14,
   "metadata": {},
   "outputs": [],
   "source": [
    "last_50 = pd.DataFrame(sp.audio_features(tracks= df.song_uri.tail(50)))"
   ]
  },
  {
   "cell_type": "code",
   "execution_count": 15,
   "metadata": {},
   "outputs": [
    {
     "data": {
      "text/plain": [
       "(50, 18)"
      ]
     },
     "execution_count": 15,
     "metadata": {},
     "output_type": "execute_result"
    }
   ],
   "source": [
    "last_50.shape"
   ]
  },
  {
   "cell_type": "code",
   "execution_count": 16,
   "metadata": {},
   "outputs": [],
   "source": [
    "top_100_df = pd.merge(df,first_100,how='right',left_on='song_uri',right_on='uri')\n",
    "top_50_df = pd.merge(df,last_50,how='right',left_on='song_uri',right_on='uri')"
   ]
  },
  {
   "cell_type": "code",
   "execution_count": 17,
   "metadata": {},
   "outputs": [],
   "source": [
    "df = pd.concat([top_100_df, top_50_df])"
   ]
  },
  {
   "cell_type": "code",
   "execution_count": 18,
   "metadata": {},
   "outputs": [
    {
     "data": {
      "text/plain": [
       "(200, 23)"
      ]
     },
     "execution_count": 18,
     "metadata": {},
     "output_type": "execute_result"
    }
   ],
   "source": [
    "df.shape"
   ]
  },
  {
   "cell_type": "code",
   "execution_count": 19,
   "metadata": {},
   "outputs": [],
   "source": [
    "df.drop_duplicates(inplace=True)"
   ]
  },
  {
   "cell_type": "code",
   "execution_count": 20,
   "metadata": {},
   "outputs": [
    {
     "data": {
      "text/plain": [
       "(150, 23)"
      ]
     },
     "execution_count": 20,
     "metadata": {},
     "output_type": "execute_result"
    }
   ],
   "source": [
    "df.shape"
   ]
  },
  {
   "cell_type": "code",
   "execution_count": 23,
   "metadata": {},
   "outputs": [
    {
     "data": {
      "text/plain": [
       "Delta Sleep                24\n",
       "Minus the Bear             15\n",
       "Leon Bridges                7\n",
       "Good Kid                    6\n",
       "Origami Angel               6\n",
       "                           ..\n",
       "Bear's Den                  1\n",
       "Chinese Football            1\n",
       "Dear and the Headlights     1\n",
       "Dance à la Plage            1\n",
       "Sleepy Dog                  1\n",
       "Name: artist, Length: 68, dtype: int64"
      ]
     },
     "execution_count": 23,
     "metadata": {},
     "output_type": "execute_result"
    }
   ],
   "source": [
    "df.artist.value_counts()"
   ]
  },
  {
   "cell_type": "code",
   "execution_count": null,
   "metadata": {},
   "outputs": [],
   "source": []
  }
 ],
 "metadata": {
  "interpreter": {
   "hash": "38cca0c38332a56087b24af0bc80247f4fced29cb4f7f437d91dc159adec9c4e"
  },
  "kernelspec": {
   "display_name": "Python 3",
   "language": "python",
   "name": "python3"
  },
  "language_info": {
   "codemirror_mode": {
    "name": "ipython",
    "version": 3
   },
   "file_extension": ".py",
   "mimetype": "text/x-python",
   "name": "python",
   "nbconvert_exporter": "python",
   "pygments_lexer": "ipython3",
   "version": "3.8.8"
  }
 },
 "nbformat": 4,
 "nbformat_minor": 2
}
